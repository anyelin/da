{
 "metadata": {
  "language_info": {
   "codemirror_mode": {
    "name": "ipython",
    "version": 3
   },
   "file_extension": ".py",
   "mimetype": "text/x-python",
   "name": "python",
   "nbconvert_exporter": "python",
   "pygments_lexer": "ipython3",
   "version": "3.9.1"
  },
  "orig_nbformat": 4,
  "kernelspec": {
   "name": "python3",
   "display_name": "Python 3.9.1 64-bit"
  },
  "interpreter": {
   "hash": "ee5cc6fef2d70a7e71ee3826687cbd150f18158e0b1eef11d4f4f92bb920e304"
  }
 },
 "nbformat": 4,
 "nbformat_minor": 2,
 "cells": [
  {
   "cell_type": "code",
   "execution_count": 4,
   "metadata": {},
   "outputs": [],
   "source": [
    "import pandas as pd\n"
   ]
  },
  {
   "cell_type": "code",
   "execution_count": 7,
   "metadata": {},
   "outputs": [
    {
     "output_type": "execute_result",
     "data": {
      "text/plain": [
       "  first_name         last_name  age\n",
       "0    Anyelin  Calderon Sequera   42"
      ],
      "text/html": "<div>\n<style scoped>\n    .dataframe tbody tr th:only-of-type {\n        vertical-align: middle;\n    }\n\n    .dataframe tbody tr th {\n        vertical-align: top;\n    }\n\n    .dataframe thead th {\n        text-align: right;\n    }\n</style>\n<table border=\"1\" class=\"dataframe\">\n  <thead>\n    <tr style=\"text-align: right;\">\n      <th></th>\n      <th>first_name</th>\n      <th>last_name</th>\n      <th>age</th>\n    </tr>\n  </thead>\n  <tbody>\n    <tr>\n      <th>0</th>\n      <td>Anyelin</td>\n      <td>Calderon Sequera</td>\n      <td>42</td>\n    </tr>\n  </tbody>\n</table>\n</div>"
     },
     "metadata": {},
     "execution_count": 7
    }
   ],
   "source": [
    "# -- read file\n",
    "df  = pd.read_csv('prueba.csv')\n",
    "df.head()\n"
   ]
  },
  {
   "cell_type": "code",
   "execution_count": 8,
   "metadata": {},
   "outputs": [
    {
     "output_type": "execute_result",
     "data": {
      "text/plain": [
       "  first_name        last_name  age\n",
       "0     Oralie    Fidgeon split   30\n",
       "1    Imojean      Benet split   21\n",
       "2    Michele  Woodlands split   29\n",
       "3    Ailbert    Risdale split   22\n",
       "4      Stevy  MacGorman split   24"
      ],
      "text/html": "<div>\n<style scoped>\n    .dataframe tbody tr th:only-of-type {\n        vertical-align: middle;\n    }\n\n    .dataframe tbody tr th {\n        vertical-align: top;\n    }\n\n    .dataframe thead th {\n        text-align: right;\n    }\n</style>\n<table border=\"1\" class=\"dataframe\">\n  <thead>\n    <tr style=\"text-align: right;\">\n      <th></th>\n      <th>first_name</th>\n      <th>last_name</th>\n      <th>age</th>\n    </tr>\n  </thead>\n  <tbody>\n    <tr>\n      <th>0</th>\n      <td>Oralie</td>\n      <td>Fidgeon split</td>\n      <td>30</td>\n    </tr>\n    <tr>\n      <th>1</th>\n      <td>Imojean</td>\n      <td>Benet split</td>\n      <td>21</td>\n    </tr>\n    <tr>\n      <th>2</th>\n      <td>Michele</td>\n      <td>Woodlands split</td>\n      <td>29</td>\n    </tr>\n    <tr>\n      <th>3</th>\n      <td>Ailbert</td>\n      <td>Risdale split</td>\n      <td>22</td>\n    </tr>\n    <tr>\n      <th>4</th>\n      <td>Stevy</td>\n      <td>MacGorman split</td>\n      <td>24</td>\n    </tr>\n  </tbody>\n</table>\n</div>"
     },
     "metadata": {},
     "execution_count": 8
    }
   ],
   "source": [
    "# -- crear dataframe\n",
    "clients = {'first_name' : ['Oralie' ,'Imojean' ,'Michele', 'Ailbert', 'Stevy'],\n",
    "           'last_name' : ['Fidgeon split' ,'Benet split' ,'Woodlands split', 'Risdale split', 'MacGorman split'],\n",
    "           'age' : [30 ,21 ,29 ,22, 24]}\n",
    "\n",
    "clients = pd.DataFrame(clients, columns = ['first_name', 'last_name', 'age'])\n",
    "clients\n"
   ]
  },
  {
   "cell_type": "code",
   "execution_count": 9,
   "metadata": {},
   "outputs": [
    {
     "output_type": "execute_result",
     "data": {
      "text/plain": [
       "    invoice_id  client_id  amount\n",
       "0            1          3   77.91\n",
       "1            2          2   24.36\n",
       "2            3          7   74.65\n",
       "3            4          2   19.75\n",
       "4            5          7   27.46\n",
       "5            6          3   17.13\n",
       "6            7          1   45.77\n",
       "7            8          4   81.70\n",
       "8            9          2   14.41\n",
       "9           10          3   52.69\n",
       "10          11          6   32.03\n",
       "11          12          2   12.78"
      ],
      "text/html": "<div>\n<style scoped>\n    .dataframe tbody tr th:only-of-type {\n        vertical-align: middle;\n    }\n\n    .dataframe tbody tr th {\n        vertical-align: top;\n    }\n\n    .dataframe thead th {\n        text-align: right;\n    }\n</style>\n<table border=\"1\" class=\"dataframe\">\n  <thead>\n    <tr style=\"text-align: right;\">\n      <th></th>\n      <th>invoice_id</th>\n      <th>client_id</th>\n      <th>amount</th>\n    </tr>\n  </thead>\n  <tbody>\n    <tr>\n      <th>0</th>\n      <td>1</td>\n      <td>3</td>\n      <td>77.91</td>\n    </tr>\n    <tr>\n      <th>1</th>\n      <td>2</td>\n      <td>2</td>\n      <td>24.36</td>\n    </tr>\n    <tr>\n      <th>2</th>\n      <td>3</td>\n      <td>7</td>\n      <td>74.65</td>\n    </tr>\n    <tr>\n      <th>3</th>\n      <td>4</td>\n      <td>2</td>\n      <td>19.75</td>\n    </tr>\n    <tr>\n      <th>4</th>\n      <td>5</td>\n      <td>7</td>\n      <td>27.46</td>\n    </tr>\n    <tr>\n      <th>5</th>\n      <td>6</td>\n      <td>3</td>\n      <td>17.13</td>\n    </tr>\n    <tr>\n      <th>6</th>\n      <td>7</td>\n      <td>1</td>\n      <td>45.77</td>\n    </tr>\n    <tr>\n      <th>7</th>\n      <td>8</td>\n      <td>4</td>\n      <td>81.70</td>\n    </tr>\n    <tr>\n      <th>8</th>\n      <td>9</td>\n      <td>2</td>\n      <td>14.41</td>\n    </tr>\n    <tr>\n      <th>9</th>\n      <td>10</td>\n      <td>3</td>\n      <td>52.69</td>\n    </tr>\n    <tr>\n      <th>10</th>\n      <td>11</td>\n      <td>6</td>\n      <td>32.03</td>\n    </tr>\n    <tr>\n      <th>11</th>\n      <td>12</td>\n      <td>2</td>\n      <td>12.78</td>\n    </tr>\n  </tbody>\n</table>\n</div>"
     },
     "metadata": {},
     "execution_count": 9
    }
   ],
   "source": [
    "# -- otro datafrema\n",
    "invoices = {'invoice_id': [1, 2, 3, 4, 5, 6, 7, 8, 9, 10, 11, 12],\n",
    "            'client_id' : [3, 2, 7, 2, 7, 3, 1, 4 ,2, 3, 6, 2],\n",
    "            'amount': [77.91, 24.36, 74.65, 19.75, 27.46, 17.13, 45.77, 81.7, 14.41, 52.69, 32.03, 12.78]}\n",
    "invoices = pd.DataFrame(invoices, columns = ['invoice_id', 'client_id', 'amount'])\n",
    "invoices"
   ]
  },
  {
   "cell_type": "code",
   "execution_count": 11,
   "metadata": {},
   "outputs": [
    {
     "output_type": "stream",
     "name": "stdout",
     "text": [
      "Oralie\nImojean\nMichele\nAilbert\nStevy\n"
     ]
    }
   ],
   "source": [
    "# -- recorrer dataframe por columna\n",
    "for i, row in clients.iterrows():\n",
    "    # -- print(row) registro completo\n",
    "    print (clients['first_name'][i])\n"
   ]
  },
  {
   "cell_type": "code",
   "execution_count": 12,
   "metadata": {},
   "outputs": [
    {
     "output_type": "execute_result",
     "data": {
      "text/plain": [
       "  first_name           last_name  age\n",
       "0     ORALIE    [Fidgeon, split]   30\n",
       "1    IMOJEAN      [Benet, split]   21\n",
       "2    MICHELE  [Woodlands, split]   29\n",
       "3    AILBERT    [Risdale, split]   22\n",
       "4      STEVY  [MacGorman, split]   24"
      ],
      "text/html": "<div>\n<style scoped>\n    .dataframe tbody tr th:only-of-type {\n        vertical-align: middle;\n    }\n\n    .dataframe tbody tr th {\n        vertical-align: top;\n    }\n\n    .dataframe thead th {\n        text-align: right;\n    }\n</style>\n<table border=\"1\" class=\"dataframe\">\n  <thead>\n    <tr style=\"text-align: right;\">\n      <th></th>\n      <th>first_name</th>\n      <th>last_name</th>\n      <th>age</th>\n    </tr>\n  </thead>\n  <tbody>\n    <tr>\n      <th>0</th>\n      <td>ORALIE</td>\n      <td>[Fidgeon, split]</td>\n      <td>30</td>\n    </tr>\n    <tr>\n      <th>1</th>\n      <td>IMOJEAN</td>\n      <td>[Benet, split]</td>\n      <td>21</td>\n    </tr>\n    <tr>\n      <th>2</th>\n      <td>MICHELE</td>\n      <td>[Woodlands, split]</td>\n      <td>29</td>\n    </tr>\n    <tr>\n      <th>3</th>\n      <td>AILBERT</td>\n      <td>[Risdale, split]</td>\n      <td>22</td>\n    </tr>\n    <tr>\n      <th>4</th>\n      <td>STEVY</td>\n      <td>[MacGorman, split]</td>\n      <td>24</td>\n    </tr>\n  </tbody>\n</table>\n</div>"
     },
     "metadata": {},
     "execution_count": 12
    }
   ],
   "source": [
    "# -- Operaciones de String\n",
    "clients['first_name'] = clients['first_name'].str.upper()\n",
    "clients['last_name'] = clients['last_name'].str.split(' ')\n",
    "\n",
    "clients"
   ]
  },
  {
   "cell_type": "code",
   "execution_count": 13,
   "metadata": {},
   "outputs": [
    {
     "output_type": "execute_result",
     "data": {
      "text/plain": [
       "  first_name           last_name  age\n",
       "0     ORALIE    [Fidgeon, split]   30\n",
       "1    IMOJEAN      [Benet, split]   21\n",
       "2    MICHELE  [Woodlands, split]   29\n",
       "3    AILBERT    [Risdale, split]   22\n",
       "4      STEVY  [MacGorman, split]   24\n",
       "0       Rebe   MacCrossan concat   21"
      ],
      "text/html": "<div>\n<style scoped>\n    .dataframe tbody tr th:only-of-type {\n        vertical-align: middle;\n    }\n\n    .dataframe tbody tr th {\n        vertical-align: top;\n    }\n\n    .dataframe thead th {\n        text-align: right;\n    }\n</style>\n<table border=\"1\" class=\"dataframe\">\n  <thead>\n    <tr style=\"text-align: right;\">\n      <th></th>\n      <th>first_name</th>\n      <th>last_name</th>\n      <th>age</th>\n    </tr>\n  </thead>\n  <tbody>\n    <tr>\n      <th>0</th>\n      <td>ORALIE</td>\n      <td>[Fidgeon, split]</td>\n      <td>30</td>\n    </tr>\n    <tr>\n      <th>1</th>\n      <td>IMOJEAN</td>\n      <td>[Benet, split]</td>\n      <td>21</td>\n    </tr>\n    <tr>\n      <th>2</th>\n      <td>MICHELE</td>\n      <td>[Woodlands, split]</td>\n      <td>29</td>\n    </tr>\n    <tr>\n      <th>3</th>\n      <td>AILBERT</td>\n      <td>[Risdale, split]</td>\n      <td>22</td>\n    </tr>\n    <tr>\n      <th>4</th>\n      <td>STEVY</td>\n      <td>[MacGorman, split]</td>\n      <td>24</td>\n    </tr>\n    <tr>\n      <th>0</th>\n      <td>Rebe</td>\n      <td>MacCrossan concat</td>\n      <td>21</td>\n    </tr>\n  </tbody>\n</table>\n</div>"
     },
     "metadata": {},
     "execution_count": 13
    }
   ],
   "source": [
    "# -- Contatenar nuevos registros a nivel filas\n",
    "new_clients = pd.DataFrame({'first_name' : ['Rebe'],\n",
    "                            'last_name' : ['MacCrossan concat'],\n",
    "                            'age' : [21]},\n",
    "                           columns = ['first_name', 'last_name', 'age'])\n",
    "clients = pd.concat([clients, new_clients])\n",
    "clients\n"
   ]
  },
  {
   "cell_type": "code",
   "execution_count": 15,
   "metadata": {},
   "outputs": [
    {
     "output_type": "execute_result",
     "data": {
      "text/plain": [
       "  first_name           last_name  age\n",
       "0     ORALIE    [Fidgeon, split]   30\n",
       "1    IMOJEAN      [Benet, split]   21\n",
       "2    MICHELE  [Woodlands, split]   29\n",
       "3    AILBERT    [Risdale, split]   22\n",
       "4      STEVY  [MacGorman, split]   24\n",
       "5       Rebe   MacCrossan concat   21"
      ],
      "text/html": "<div>\n<style scoped>\n    .dataframe tbody tr th:only-of-type {\n        vertical-align: middle;\n    }\n\n    .dataframe tbody tr th {\n        vertical-align: top;\n    }\n\n    .dataframe thead th {\n        text-align: right;\n    }\n</style>\n<table border=\"1\" class=\"dataframe\">\n  <thead>\n    <tr style=\"text-align: right;\">\n      <th></th>\n      <th>first_name</th>\n      <th>last_name</th>\n      <th>age</th>\n    </tr>\n  </thead>\n  <tbody>\n    <tr>\n      <th>0</th>\n      <td>ORALIE</td>\n      <td>[Fidgeon, split]</td>\n      <td>30</td>\n    </tr>\n    <tr>\n      <th>1</th>\n      <td>IMOJEAN</td>\n      <td>[Benet, split]</td>\n      <td>21</td>\n    </tr>\n    <tr>\n      <th>2</th>\n      <td>MICHELE</td>\n      <td>[Woodlands, split]</td>\n      <td>29</td>\n    </tr>\n    <tr>\n      <th>3</th>\n      <td>AILBERT</td>\n      <td>[Risdale, split]</td>\n      <td>22</td>\n    </tr>\n    <tr>\n      <th>4</th>\n      <td>STEVY</td>\n      <td>[MacGorman, split]</td>\n      <td>24</td>\n    </tr>\n    <tr>\n      <th>5</th>\n      <td>Rebe</td>\n      <td>MacCrossan concat</td>\n      <td>21</td>\n    </tr>\n  </tbody>\n</table>\n</div>"
     },
     "metadata": {},
     "execution_count": 15
    }
   ],
   "source": [
    "# actualizar los indices\n",
    "clients.index = range(clients.shape[0])\n",
    "clients\n"
   ]
  },
  {
   "cell_type": "code",
   "execution_count": 16,
   "metadata": {},
   "outputs": [
    {
     "output_type": "execute_result",
     "data": {
      "text/plain": [
       "   client_id first_name           last_name  age\n",
       "0          1     ORALIE    [Fidgeon, split]   30\n",
       "1          2    IMOJEAN      [Benet, split]   21\n",
       "2          3    MICHELE  [Woodlands, split]   29\n",
       "3          4    AILBERT    [Risdale, split]   22\n",
       "4          5      STEVY  [MacGorman, split]   24\n",
       "5          6       Rebe   MacCrossan concat   21"
      ],
      "text/html": "<div>\n<style scoped>\n    .dataframe tbody tr th:only-of-type {\n        vertical-align: middle;\n    }\n\n    .dataframe tbody tr th {\n        vertical-align: top;\n    }\n\n    .dataframe thead th {\n        text-align: right;\n    }\n</style>\n<table border=\"1\" class=\"dataframe\">\n  <thead>\n    <tr style=\"text-align: right;\">\n      <th></th>\n      <th>client_id</th>\n      <th>first_name</th>\n      <th>last_name</th>\n      <th>age</th>\n    </tr>\n  </thead>\n  <tbody>\n    <tr>\n      <th>0</th>\n      <td>1</td>\n      <td>ORALIE</td>\n      <td>[Fidgeon, split]</td>\n      <td>30</td>\n    </tr>\n    <tr>\n      <th>1</th>\n      <td>2</td>\n      <td>IMOJEAN</td>\n      <td>[Benet, split]</td>\n      <td>21</td>\n    </tr>\n    <tr>\n      <th>2</th>\n      <td>3</td>\n      <td>MICHELE</td>\n      <td>[Woodlands, split]</td>\n      <td>29</td>\n    </tr>\n    <tr>\n      <th>3</th>\n      <td>4</td>\n      <td>AILBERT</td>\n      <td>[Risdale, split]</td>\n      <td>22</td>\n    </tr>\n    <tr>\n      <th>4</th>\n      <td>5</td>\n      <td>STEVY</td>\n      <td>[MacGorman, split]</td>\n      <td>24</td>\n    </tr>\n    <tr>\n      <th>5</th>\n      <td>6</td>\n      <td>Rebe</td>\n      <td>MacCrossan concat</td>\n      <td>21</td>\n    </tr>\n  </tbody>\n</table>\n</div>"
     },
     "metadata": {},
     "execution_count": 16
    }
   ],
   "source": [
    "# -- Contatenar nuevos registros nivel columnas - agrega columna client_id\n",
    "ids = pd.DataFrame({'client_id': [1, 2, 3, 4, 5, 6]}, columns = ['client_id'])\n",
    "clients = pd.concat([ids, clients], axis=1,)\n",
    "clients\n"
   ]
  },
  {
   "cell_type": "code",
   "execution_count": 17,
   "metadata": {},
   "outputs": [
    {
     "output_type": "execute_result",
     "data": {
      "text/plain": [
       "   client_id first_name           last_name  age  invoice_id  amount\n",
       "0          1     ORALIE    [Fidgeon, split]   30           7   45.77\n",
       "1          2    IMOJEAN      [Benet, split]   21           2   24.36\n",
       "2          2    IMOJEAN      [Benet, split]   21           4   19.75\n",
       "3          2    IMOJEAN      [Benet, split]   21           9   14.41\n",
       "4          2    IMOJEAN      [Benet, split]   21          12   12.78\n",
       "5          3    MICHELE  [Woodlands, split]   29           1   77.91\n",
       "6          3    MICHELE  [Woodlands, split]   29           6   17.13\n",
       "7          3    MICHELE  [Woodlands, split]   29          10   52.69\n",
       "8          4    AILBERT    [Risdale, split]   22           8   81.70\n",
       "9          6       Rebe   MacCrossan concat   21          11   32.03"
      ],
      "text/html": "<div>\n<style scoped>\n    .dataframe tbody tr th:only-of-type {\n        vertical-align: middle;\n    }\n\n    .dataframe tbody tr th {\n        vertical-align: top;\n    }\n\n    .dataframe thead th {\n        text-align: right;\n    }\n</style>\n<table border=\"1\" class=\"dataframe\">\n  <thead>\n    <tr style=\"text-align: right;\">\n      <th></th>\n      <th>client_id</th>\n      <th>first_name</th>\n      <th>last_name</th>\n      <th>age</th>\n      <th>invoice_id</th>\n      <th>amount</th>\n    </tr>\n  </thead>\n  <tbody>\n    <tr>\n      <th>0</th>\n      <td>1</td>\n      <td>ORALIE</td>\n      <td>[Fidgeon, split]</td>\n      <td>30</td>\n      <td>7</td>\n      <td>45.77</td>\n    </tr>\n    <tr>\n      <th>1</th>\n      <td>2</td>\n      <td>IMOJEAN</td>\n      <td>[Benet, split]</td>\n      <td>21</td>\n      <td>2</td>\n      <td>24.36</td>\n    </tr>\n    <tr>\n      <th>2</th>\n      <td>2</td>\n      <td>IMOJEAN</td>\n      <td>[Benet, split]</td>\n      <td>21</td>\n      <td>4</td>\n      <td>19.75</td>\n    </tr>\n    <tr>\n      <th>3</th>\n      <td>2</td>\n      <td>IMOJEAN</td>\n      <td>[Benet, split]</td>\n      <td>21</td>\n      <td>9</td>\n      <td>14.41</td>\n    </tr>\n    <tr>\n      <th>4</th>\n      <td>2</td>\n      <td>IMOJEAN</td>\n      <td>[Benet, split]</td>\n      <td>21</td>\n      <td>12</td>\n      <td>12.78</td>\n    </tr>\n    <tr>\n      <th>5</th>\n      <td>3</td>\n      <td>MICHELE</td>\n      <td>[Woodlands, split]</td>\n      <td>29</td>\n      <td>1</td>\n      <td>77.91</td>\n    </tr>\n    <tr>\n      <th>6</th>\n      <td>3</td>\n      <td>MICHELE</td>\n      <td>[Woodlands, split]</td>\n      <td>29</td>\n      <td>6</td>\n      <td>17.13</td>\n    </tr>\n    <tr>\n      <th>7</th>\n      <td>3</td>\n      <td>MICHELE</td>\n      <td>[Woodlands, split]</td>\n      <td>29</td>\n      <td>10</td>\n      <td>52.69</td>\n    </tr>\n    <tr>\n      <th>8</th>\n      <td>4</td>\n      <td>AILBERT</td>\n      <td>[Risdale, split]</td>\n      <td>22</td>\n      <td>8</td>\n      <td>81.70</td>\n    </tr>\n    <tr>\n      <th>9</th>\n      <td>6</td>\n      <td>Rebe</td>\n      <td>MacCrossan concat</td>\n      <td>21</td>\n      <td>11</td>\n      <td>32.03</td>\n    </tr>\n  </tbody>\n</table>\n</div>"
     },
     "metadata": {},
     "execution_count": 17
    }
   ],
   "source": [
    "# -- Unión de los dataframes\n",
    "pd.merge(clients, invoices, left_on='client_id', right_on='client_id')\n"
   ]
  }
 ]
}