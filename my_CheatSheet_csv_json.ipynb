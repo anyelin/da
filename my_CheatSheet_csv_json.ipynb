{
 "cells": [
  {
   "cell_type": "markdown",
   "metadata": {},
   "source": [
    "La **librería csv** forma parte de la biblioteca estándar de Python. Esta librería permite leer\n",
    "y escribir archivos CSV. Por ejemplo, permite al programador decir “Escribe estos datos\n",
    "en el formato preferido por Excel” o “Lee los datos desde este archivo que fue generado\n",
    "por Excel”, sin conocer los detalles precisos del formato CSV utilizado por Excel. Además\n",
    "el programador puede describir los formatos CSV soportados por otras aplicaciones o\n",
    "crearse sus propios formatos CSV para propósitos especiales.\n",
    "Dialectos:\n",
    "- excel: La propiedades usuales de los archivos CSV generados por Excel\n",
    "- excel-tab:La propiedades usuales de los archivos delimitados por TAB generados por Excel.\n",
    "- unix: La propiedades usuales de los archivos CSV generados por los sistemas unix\n",
    "- QUOTE_ALL: Entrecomilla todos los campos\n",
    "- QUOTE_MINIMAL: Entrecomilla solo los campos que tienen algún carácter especial, como por ejemplo, el delimitador, el carácter usadopara las comillas o los usados para delimitar la línea.\n",
    "- QUOTE_NONNUMERIC: Entrecomilla todo campo no numérico\n",
    "- QUOTE_NONE: No entrecomilla ningún campo."
   ]
  },
  {
   "cell_type": "markdown",
   "metadata": {},
   "source": [
    "**El dialecto soporta los siguientes atributos:**\n",
    "- **delimiter** Un carácter utilizado para separar los campos. Por defecto la coma (,)\n",
    "- **doublequote** Controla cuando se ceben entrecomillar las instancias de quotechar en un campo. Cuando está en True el carácter se duplica. Cuando está en False se utiliza el escapechar como prefijo del quotechar. Por defecto esta en True.\n",
    "- **escapechar** Un carácter utilizado para escapar el delimitador si quoting está definido en QUOTE_NONE y el quotechar si doublequote esta en False.\n",
    "- **lineterminator** El string utilizado para terminar una línea. Por defecto ‘\\r\\n’\n",
    "- **quotechar** Un carácter utilizado para entrecomillar los campos. Por defecto (“)\n",
    "- **quoting** Indica cuándo se debe entrecomillar. Los valores son los de las constantes QUOTE_*. El valor por defecto es QUOTE_MINIMAL.\n",
    "- **skipinitialspace** Si está en True ignora el espacio inmediatamente posterior al delimitador. Por defecto esta en False.\n",
    "- **strict** Cuando está en True lanza una excepción en el caso de ingresar un CSV mal formado. Por defecto esta en False."
   ]
  },
  {
   "cell_type": "code",
   "execution_count": 10,
   "metadata": {},
   "outputs": [
    {
     "output_type": "stream",
     "name": "stderr",
     "text": [
      "ic| row: ['1', '2', '3']\n",
      "ic| row: ['4', '5', '6']\n",
      "ic| row: ['1,2,3']\n",
      "ic| row: ['4,5,6']\n",
      "ic| ', '.join(row): 'Banana, 6.50'\n",
      "ic| ', '.join(row): 'Manzana, 7.40'\n"
     ]
    }
   ],
   "source": [
    "import csv\n",
    "from icecream import ic\n",
    "\n",
    "with open('some.csv', newline='') as f:\n",
    "    reader = csv.reader(f)\n",
    "    for row in reader:\n",
    "        ic(row)\n",
    "\n",
    "with open('some.csv', newline='') as f:\n",
    "    reader = csv.reader(f, delimiter=':', quoting=csv.QUOTE_NONE)\n",
    "    for row in reader:\n",
    "        ic(row)\n",
    "\n",
    "with open('example.csv', newline='') as csvfile:\n",
    "    reader = csv.reader(csvfile, delimiter=' ', quotechar='|')\n",
    "    for row in reader:\n",
    "        ic(', '.join(row))\n",
    "\n",
    "csv.register_dialect('unixpwd', delimiter=':', quoting=csv.QUOTE_NONE)\n",
    "with open('some.csv', newline='') as f:\n",
    "    reader = csv.reader(f, 'unixpwd')\n"
   ]
  },
  {
   "cell_type": "code",
   "execution_count": 1,
   "metadata": {},
   "outputs": [
    {
     "ename": "IndentationError",
     "evalue": "expected an indented block (<ipython-input-1-0680d8413063>, line 5)",
     "output_type": "error",
     "traceback": [
      "\u001b[1;36m  File \u001b[1;32m\"<ipython-input-1-0680d8413063>\"\u001b[1;36m, line \u001b[1;32m5\u001b[0m\n\u001b[1;33m    print(row)\u001b[0m\n\u001b[1;37m    ^\u001b[0m\n\u001b[1;31mIndentationError\u001b[0m\u001b[1;31m:\u001b[0m expected an indented block\n"
     ]
    }
   ],
   "source": [
    "import csv\n",
    "with open('some.csv', doublequote=False) as f:\n",
    "    reader = csv.reader(f)\n",
    "    for row in reader:\n",
    "    print(row)"
   ]
  },
  {
   "cell_type": "code",
   "execution_count": 1,
   "metadata": {},
   "outputs": [
    {
     "ename": "IndentationError",
     "evalue": "expected an indented block (<ipython-input-1-e7a5f2207eb3>, line 6)",
     "output_type": "error",
     "traceback": [
      "\u001b[1;36m  File \u001b[1;32m\"<ipython-input-1-e7a5f2207eb3>\"\u001b[1;36m, line \u001b[1;32m6\u001b[0m\n\u001b[1;33m    print(row['first_name'], row['last_name'])\u001b[0m\n\u001b[1;37m    ^\u001b[0m\n\u001b[1;31mIndentationError\u001b[0m\u001b[1;31m:\u001b[0m expected an indented block\n"
     ]
    }
   ],
   "source": [
    "# Clase DictReader\n",
    "import csv\n",
    "with open('names.csv', newline='') as csvfile:\n",
    "    reader = csv.DictReader(csvfile)\n",
    "    for row in reader:\n",
    "    print(row['first_name'], row['last_name'])\n"
   ]
  },
  {
   "cell_type": "markdown",
   "metadata": {},
   "source": [
    "**Escritura de archivos CSV**\n",
    "Al igual que en la lectura de archivos CSV, la librería nos provee de dos formas de escribir\n",
    "un archivo CSV. Una utilizando el objeto writer y otra utilizando la clase DictWriter. El\n",
    "objeto writer escribe los datos en un archivo a partir de secuencias. En cambio la clase\n",
    "DictWriter lo hace a partir de diccionarios."
   ]
  },
  {
   "cell_type": "code",
   "execution_count": 20,
   "metadata": {},
   "outputs": [],
   "source": [
    "import csv\n",
    "someiterable = [['1', '2', '3'], ['4', '5', '6']]\n",
    "\n",
    "with open('some.csv', 'w', newline='') as f:\n",
    "    writer = csv.writer(f)\n",
    "    writer.writerows(someiterable)\n",
    "\n",
    "with open('example.csv', 'w', newline='') as csvfile:\n",
    "    writer = csv.writer(csvfile, delimiter=' ', quotechar='|', quoting=csv.QUOTE_MINIMAL)\n",
    "    writer.writerow(['Banana', '6.50'])\n",
    "    writer.writerow(['Manzana', '7.40'])\n"
   ]
  },
  {
   "cell_type": "code",
   "execution_count": 11,
   "metadata": {},
   "outputs": [
    {
     "ename": "Error",
     "evalue": "need to escape, but no escapechar set",
     "output_type": "error",
     "traceback": [
      "\u001b[1;31m---------------------------------------------------------------------------\u001b[0m",
      "\u001b[1;31mError\u001b[0m                                     Traceback (most recent call last)",
      "\u001b[1;32m<ipython-input-11-bb34a4f0342c>\u001b[0m in \u001b[0;36m<module>\u001b[1;34m\u001b[0m\n\u001b[0;32m      2\u001b[0m \u001b[1;32mwith\u001b[0m \u001b[0mopen\u001b[0m\u001b[1;33m(\u001b[0m\u001b[1;34m'some.csv'\u001b[0m\u001b[1;33m,\u001b[0m \u001b[1;34m'w'\u001b[0m\u001b[1;33m,\u001b[0m \u001b[0mnewline\u001b[0m\u001b[1;33m=\u001b[0m\u001b[1;34m''\u001b[0m\u001b[1;33m)\u001b[0m \u001b[1;32mas\u001b[0m \u001b[0mf\u001b[0m\u001b[1;33m:\u001b[0m\u001b[1;33m\u001b[0m\u001b[1;33m\u001b[0m\u001b[0m\n\u001b[0;32m      3\u001b[0m     \u001b[0mwriter\u001b[0m \u001b[1;33m=\u001b[0m \u001b[0mcsv\u001b[0m\u001b[1;33m.\u001b[0m\u001b[0mwriter\u001b[0m\u001b[1;33m(\u001b[0m\u001b[0mf\u001b[0m\u001b[1;33m,\u001b[0m \u001b[0mquoting\u001b[0m\u001b[1;33m=\u001b[0m\u001b[0mcsv\u001b[0m\u001b[1;33m.\u001b[0m\u001b[0mQUOTE_NONE\u001b[0m\u001b[1;33m,\u001b[0m \u001b[0mquotechar\u001b[0m\u001b[1;33m=\u001b[0m\u001b[1;34m'|'\u001b[0m\u001b[1;33m,\u001b[0m \u001b[0mdoublequote\u001b[0m\u001b[1;33m=\u001b[0m\u001b[1;32mFalse\u001b[0m\u001b[1;33m)\u001b[0m\u001b[1;33m\u001b[0m\u001b[1;33m\u001b[0m\u001b[0m\n\u001b[1;32m----> 4\u001b[1;33m     \u001b[0mwriter\u001b[0m\u001b[1;33m.\u001b[0m\u001b[0mwriterow\u001b[0m\u001b[1;33m(\u001b[0m\u001b[1;33m[\u001b[0m\u001b[1;34m'Hola, Mundo!'\u001b[0m\u001b[1;33m]\u001b[0m\u001b[1;33m)\u001b[0m\u001b[1;33m\u001b[0m\u001b[1;33m\u001b[0m\u001b[0m\n\u001b[0m",
      "\u001b[1;31mError\u001b[0m: need to escape, but no escapechar set"
     ]
    }
   ],
   "source": [
    "import csv\n",
    "with open('some.csv', 'w', newline='') as f:\n",
    "    writer = csv.writer(f, quoting=csv.QUOTE_NONE, quotechar='|', doublequote=False)\n",
    "    writer.writerow(['Hola Mundo!'])\n"
   ]
  },
  {
   "cell_type": "markdown",
   "metadata": {},
   "source": [
    "### Respuestas correctas para csv\n",
    "json.dumps([1, 2, 3])\n",
    "\n",
    "\n",
    "json.loads(‘[1, 2, 3]’)\n",
    "json.load(f)    # Contenido de f [1, 2, 3]\n",
    "\n",
    "\n",
    "csv.reader(csv_file, doublequote=False)\n",
    "csv.reader(csv_file, delimiter=’;’)\n",
    "csv.reader(csv_file, quoting=csv.QUOTE_NONE)\n",
    "\n",
    "writer.writerow([‘Hola Mundo!’])\n",
    "writer.writerow([‘“Hola Mundo!”’])\n"
   ]
  },
  {
   "cell_type": "code",
   "execution_count": 11,
   "metadata": {},
   "outputs": [],
   "source": [
    "import csv\n",
    "\n",
    "a_list = ['Pedro', 'Florencia', 'Matias', 'Jorge', 'Maria', 'Ines',1]\n",
    "\n",
    "with open('some2.csv', 'w', newline='') as f:\n",
    "    writer = csv.writer(f)\n",
    "    writer.writerow(a_list)"
   ]
  },
  {
   "cell_type": "code",
   "execution_count": 25,
   "metadata": {},
   "outputs": [
    {
     "data": {
      "text/plain": [
       "[['Hola, Mundo'], ['Python']]"
      ]
     },
     "execution_count": 25,
     "metadata": {},
     "output_type": "execute_result"
    }
   ],
   "source": [
    "import csv\n",
    "\n",
    "reader = csv.reader(['Hola|, Mundo', 'Python'], escapechar='|')\n",
    "file_content = list(reader)\n",
    "file_content"
   ]
  }
 ],
 "metadata": {
  "kernelspec": {
   "name": "python3",
   "display_name": "Python 3.8.5 64-bit ('base': conda)"
  },
  "language_info": {
   "codemirror_mode": {
    "name": "ipython",
    "version": 3
   },
   "file_extension": ".py",
   "mimetype": "text/x-python",
   "name": "python",
   "nbconvert_exporter": "python",
   "pygments_lexer": "ipython3",
   "version": "3.8.5"
  },
  "interpreter": {
   "hash": "bad76c102064897630d73940f2630de3bd7bb34e48c0e3b4175992075910d1fe"
  }
 },
 "nbformat": 4,
 "nbformat_minor": 4
}