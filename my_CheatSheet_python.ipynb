{
 "cells": [
  {
   "source": [
    "# Libreria IceCream"
   ],
   "cell_type": "markdown",
   "metadata": {}
  },
  {
   "cell_type": "code",
   "execution_count": 28,
   "metadata": {},
   "outputs": [
    {
     "output_type": "stream",
     "name": "stderr",
     "text": [
      "2021-07-01 12:36:45.427317|> 'Hello'\n",
      "2021-07-01 12:36:46.531979|> 'Hello'\n",
      "2021-07-01 12:36:47.623111|> 'Hello'\n"
     ]
    }
   ],
   "source": [
    "from datetime import datetime\n",
    "from icecream import ic \n",
    "import time\n",
    "\n",
    "def time_format():\n",
    "    return f'{datetime.now()}|> '\n",
    "\n",
    "ic.configureOutput(prefix=time_format)\n",
    "\n",
    "for _ in range(3):\n",
    "    time.sleep(1)\n",
    "    ic('Hello')\n"
   ]
  },
  {
   "source": [
    "#  Trabajo con String"
   ],
   "cell_type": "markdown",
   "metadata": {}
  },
  {
   "cell_type": "code",
   "execution_count": null,
   "metadata": {},
   "outputs": [],
   "source": [
    "print('=================== Actividad 1 ===========================')\n",
    "a_list = ['1','2','3']\n",
    "result = '-'.join(a_list)\n",
    "print(result)"
   ]
  },
  {
   "cell_type": "code",
   "execution_count": 2,
   "metadata": {},
   "outputs": [
    {
     "output_type": "stream",
     "name": "stdout",
     "text": [
      "=================== Libreria format ===========================\nHola anyelin \nHola anyelin \nX:4 - Y:3\n2.000000 + 5.000000 = 7.000000\n25\n26\nHola anyelin         \nHola anyelin         \nHola     anyelin     \n"
     ]
    }
   ],
   "source": [
    "# -- libreria string\n",
    "print('=================== Libreria format ===========================')\n",
    "name = 'anyelin'\n",
    "print('Hola {} '.format(name))\n",
    "print('Hola {name} '.format(name=name))\n",
    "\n",
    "tupla = (4,3)\n",
    "print('X:{0[0]} - Y:{0[1]}'.format(tupla))\n",
    "print('{0:f} + {1:f} = {result:f}'.format(2, 5, result=7))\n",
    "print('{:d}'.format(25))\n",
    "print('{:.0f}'.format(25.50))\n",
    "#\n",
    "print('Hola {name:16}'.format(name=name))\n",
    "print('Hola {name:<16}'.format(name=name))\n",
    "print('Hola {name:^16}'.format(name=name))"
   ]
  },
  {
   "cell_type": "code",
   "execution_count": null,
   "metadata": {},
   "outputs": [],
   "source": [
    "\n",
    "print('=================== Constantes Libreria String ===========================')\n",
    "import string\n",
    "\n",
    "string.ascii_letters\n",
    "string.ascii_uppercase\n",
    "string.ascii_lowercase\n",
    "string.digits\n",
    "string.hexdigits\n",
    "string.punctuation\n",
    "string.printable\n",
    "string.whitespace"
   ]
  },
  {
   "cell_type": "code",
   "execution_count": null,
   "metadata": {},
   "outputs": [],
   "source": [
    "\n",
    "print('=================== Formato cadena de texto ===========================')\n",
    "import string\n",
    "\n",
    "name = 'abraham'\n",
    "formatter = string.Formatter()\n",
    "formatter.format('Hola {}', name)"
   ]
  },
  {
   "cell_type": "markdown",
   "metadata": {},
   "source": [
    "# Trabajando con Archivos"
   ]
  },
  {
   "cell_type": "markdown",
   "metadata": {},
   "source": [
    "### Formateo elegante de la salida\n",
    "**str()** devuelve representaciones de los valores que son bastante legibles por humanos, mientras que **repr()**\n",
    "genera representaciones que pueden ser leídas por el el intérprete (o forzarían un SyntaxError si no hay sintáxis\n",
    "equivalente).\n",
    "**str.zfill()** , el cual rellena una cadena numérica a la izquierda con ceros. "
   ]
  },
  {
   "cell_type": "code",
   "execution_count": 2,
   "metadata": {},
   "outputs": [
    {
     "name": "stdout",
     "output_type": "stream",
     "text": [
      " 1   1    1\n",
      " 2   4    8\n",
      " 3   9   27\n",
      " 4  16   64\n",
      " 5  25  125\n",
      " 6  36  216\n",
      " 7  49  343\n",
      " 8  64  512\n",
      " 9  81  729\n",
      "10 100 1000\n"
     ]
    }
   ],
   "source": [
    "for x in range(1, 11):\n",
    "    print(repr(x).rjust(2), repr(x * x).rjust(3), end=' ')\n",
    "    # notar el uso de 'end' en la linea anterior\n",
    "    print(repr(x * x * x).rjust(4))"
   ]
  },
  {
   "cell_type": "code",
   "execution_count": 3,
   "metadata": {},
   "outputs": [
    {
     "name": "stdout",
     "output_type": "stream",
     "text": [
      " 1   1    1\n",
      " 2   4    8\n",
      " 3   9   27\n",
      " 4  16   64\n",
      " 5  25  125\n",
      " 6  36  216\n",
      " 7  49  343\n",
      " 8  64  512\n",
      " 9  81  729\n",
      "10 100 1000\n"
     ]
    }
   ],
   "source": [
    "for x in range(1,11):\n",
    "    print('{0:2d} {1:3d} {2:4d}'.format(x, x * x, x * x * x))"
   ]
  },
  {
   "cell_type": "code",
   "execution_count": 5,
   "metadata": {},
   "outputs": [
    {
     "name": "stdout",
     "output_type": "stream",
     "text": [
      "carne y huevos\n",
      "Esta carne es espantosa.\n"
     ]
    }
   ],
   "source": [
    "# -- Format\n",
    "print('{0} y {1}'.format('carne', 'huevos'))\n",
    "print('Esta {comida} es {adjetivo}.'.format(comida='carne', adjetivo='espantosa'))\n"
   ]
  },
  {
   "cell_type": "markdown",
   "metadata": {},
   "source": [
    "Se pueden usar **'!a'** (aplica apply()), '!s' (aplica str()) y '!r' (aplica repr()) para convertir el valor antes de que\n",
    "se formatee"
   ]
  },
  {
   "cell_type": "code",
   "execution_count": 6,
   "metadata": {},
   "outputs": [
    {
     "name": "stdout",
     "output_type": "stream",
     "text": [
      "Mi aerodeslizador esta lleno de anguilas.\n",
      "My hovercraft is full of 'anguilas'.\n"
     ]
    }
   ],
   "source": [
    "contents = 'anguilas'\n",
    "print('Mi aerodeslizador esta lleno de {}.'.format(contents))\n",
    "print('My hovercraft is full of {!r}.'.format(contents))\n"
   ]
  },
  {
   "cell_type": "code",
   "execution_count": 1,
   "metadata": {},
   "outputs": [
    {
     "name": "stdout",
     "output_type": "stream",
     "text": [
      "Sjoerd     ==>       4127\n",
      "Jack       ==>       4098\n",
      "Dcab       ==>       7678\n"
     ]
    }
   ],
   "source": [
    "tabla = {'Sjoerd': 4127, 'Jack': 4098, 'Dcab': 7678}\n",
    "for nombre, telefono in tabla.items():\n",
    "    print('{0:10} ==> {1:10d}'.format(nombre, telefono))\n"
   ]
  },
  {
   "cell_type": "code",
   "execution_count": 3,
   "metadata": {},
   "outputs": [
    {
     "name": "stdout",
     "output_type": "stream",
     "text": [
      "El valor de PI es aproximadamente 3.142.\n",
      "El valor de PI es aproximadamente 3.142.\n"
     ]
    }
   ],
   "source": [
    "import math\n",
    "print('El valor de PI es aproximadamente %5.3f.' % math.pi)\n",
    "print('El valor de PI es aproximadamente {0:.3f}.'.format(math.pi))"
   ]
  },
  {
   "cell_type": "markdown",
   "metadata": {},
   "source": [
    "# Leyendo y escribiendo archivos\n",
    "Cuando se lee en modo texto, por defecto se convierten los fines de lineas que son específicos a las plataformas ( \\n en\n",
    "Unix, \\r\\n en Windows) a solamente \\n."
   ]
  },
  {
   "cell_type": "code",
   "execution_count": 10,
   "metadata": {},
   "outputs": [
    {
     "data": {
      "text/plain": [
       "'Primera linea del archivo\\nsegunda linea'"
      ]
     },
     "execution_count": 10,
     "metadata": {},
     "output_type": "execute_result"
    }
   ],
   "source": [
    "#f.readline() #lee una sola linea del archivo\n",
    "\n",
    "with open('archivodetrabajo.txt') as f:\n",
    "    datos_leidos = f.read()\n",
    "\n",
    "datos_leidos"
   ]
  },
  {
   "cell_type": "code",
   "execution_count": 15,
   "metadata": {},
   "outputs": [
    {
     "name": "stdout",
     "output_type": "stream",
     "text": [
      "Primera linea del archivo\n",
      "segunda linea"
     ]
    }
   ],
   "source": [
    "# -- iterar sobre el objeto archivo\n",
    "with open('archivodetrabajo.txt') as f:\n",
    "    for linea in f:\n",
    "        print(linea, end='')\n"
   ]
  },
  {
   "cell_type": "code",
   "execution_count": 21,
   "metadata": {},
   "outputs": [
    {
     "data": {
      "text/plain": [
       "['Esto es una prueba\\n']"
      ]
     },
     "execution_count": 21,
     "metadata": {},
     "output_type": "execute_result"
    }
   ],
   "source": [
    "# --  líneas de un archivo en una lista también podés usar list(f) o f.readlines().\n",
    "with open('archivodetrabajo.txt') as f:\n",
    "    datos = f.readlines()\n",
    "\n",
    "datos"
   ]
  },
  {
   "cell_type": "code",
   "execution_count": 20,
   "metadata": {},
   "outputs": [
    {
     "data": {
      "text/plain": [
       "19"
      ]
     },
     "execution_count": 20,
     "metadata": {},
     "output_type": "execute_result"
    }
   ],
   "source": [
    "f = open('archivodetrabajo.txt', 'w')\n",
    "f.write('Esto es una prueba\\n')"
   ]
  },
  {
   "cell_type": "code",
   "execution_count": 31,
   "metadata": {},
   "outputs": [],
   "source": [
    "with open('archivodetrabajo2.txt', 'w') as f:\n",
    "    f.writelines(['una linea\\n', 'dos\\n', 'tres\\n'])\n"
   ]
  },
  {
   "cell_type": "code",
   "execution_count": 46,
   "metadata": {},
   "outputs": [
    {
     "data": {
      "text/plain": [
       "'una linea\\n'"
      ]
     },
     "execution_count": 46,
     "metadata": {},
     "output_type": "execute_result"
    }
   ],
   "source": [
    "with open('archivodetrabajo2.txt') as f:\n",
    "    datos = f.readlines()\n",
    "    # datos = f.list(f)\n",
    "\n",
    "datos"
   ]
  },
  {
   "cell_type": "code",
   "execution_count": 24,
   "metadata": {},
   "outputs": [
    {
     "data": {
      "text/plain": [
       "b'5'"
      ]
     },
     "execution_count": 24,
     "metadata": {},
     "output_type": "execute_result"
    }
   ],
   "source": [
    "f = open('archivodetrabajo', 'rb+')\n",
    "f.write(b'0123456789abcdef')\n",
    "f.seek(5)\n",
    "f.read(1)"
   ]
  },
  {
   "cell_type": "markdown",
   "metadata": {},
   "source": [
    "### Guardar datos estructurados con JSON "
   ]
  },
  {
   "cell_type": "code",
   "execution_count": 26,
   "metadata": {},
   "outputs": [
    {
     "data": {
      "text/plain": [
       "'[1, \"simple\", \"lista\"]'"
      ]
     },
     "execution_count": 26,
     "metadata": {},
     "output_type": "execute_result"
    }
   ],
   "source": [
    "import json\n",
    "json.dumps([1, 'simple', 'lista'])\n"
   ]
  },
  {
   "cell_type": "markdown",
   "metadata": {},
   "source": [
    "El modo puede ser 'r' cuando el archivo será\n",
    "solamente leído, 'w' para sólo escribirlo (un archivo existente con el mismo nombre será borrado), y 'a' abre el archivo\n",
    "para agregarle información; cualquier dato escrito al archivo será automáticamente agregado al final. 'r+' abre el archivo\n",
    "tanto para leerlo como para escribirlo. El argumento modo es opcional; si se omite se asume 'r'."
   ]
  },
  {
   "cell_type": "code",
   "execution_count": 42,
   "metadata": {},
   "outputs": [
    {
     "name": "stdout",
     "output_type": "stream",
     "text": [
      "3628800\n"
     ]
    },
    {
     "ename": "FileNotFoundError",
     "evalue": "[Errno 2] No such file or directory: 'ejercicio2_4.txt'",
     "output_type": "error",
     "traceback": [
      "\u001b[1;31m---------------------------------------------------------------------------\u001b[0m",
      "\u001b[1;31mFileNotFoundError\u001b[0m                         Traceback (most recent call last)",
      "\u001b[1;32m<ipython-input-42-fd8220f33fb5>\u001b[0m in \u001b[0;36m<module>\u001b[1;34m\u001b[0m\n\u001b[0;32m      2\u001b[0m \u001b[0mfactorial_10\u001b[0m \u001b[1;33m=\u001b[0m \u001b[0mstr\u001b[0m\u001b[1;33m(\u001b[0m\u001b[0mmath\u001b[0m\u001b[1;33m.\u001b[0m\u001b[0mfactorial\u001b[0m\u001b[1;33m(\u001b[0m\u001b[1;36m10\u001b[0m\u001b[1;33m)\u001b[0m\u001b[1;33m)\u001b[0m\u001b[1;33m\u001b[0m\u001b[1;33m\u001b[0m\u001b[0m\n\u001b[0;32m      3\u001b[0m \u001b[0mprint\u001b[0m\u001b[1;33m(\u001b[0m\u001b[0mfactorial_10\u001b[0m\u001b[1;33m)\u001b[0m\u001b[1;33m\u001b[0m\u001b[1;33m\u001b[0m\u001b[0m\n\u001b[1;32m----> 4\u001b[1;33m \u001b[1;32mwith\u001b[0m \u001b[0mopen\u001b[0m\u001b[1;33m(\u001b[0m\u001b[1;34m'ejercicio2_4.txt'\u001b[0m\u001b[1;33m,\u001b[0m \u001b[1;34m'r+'\u001b[0m\u001b[1;33m)\u001b[0m \u001b[1;32mas\u001b[0m \u001b[0mf\u001b[0m\u001b[1;33m:\u001b[0m\u001b[1;33m\u001b[0m\u001b[1;33m\u001b[0m\u001b[0m\n\u001b[0m\u001b[0;32m      5\u001b[0m     \u001b[0mf\u001b[0m\u001b[1;33m.\u001b[0m\u001b[0mwrite\u001b[0m\u001b[1;33m(\u001b[0m\u001b[0mfactorial_10\u001b[0m\u001b[1;33m)\u001b[0m\u001b[1;33m\u001b[0m\u001b[1;33m\u001b[0m\u001b[0m\n",
      "\u001b[1;31mFileNotFoundError\u001b[0m: [Errno 2] No such file or directory: 'ejercicio2_4.txt'"
     ]
    }
   ],
   "source": [
    "import math\n",
    "factorial_10 = str(math.factorial(10))\n",
    "print(factorial_10)\n",
    "with open('ejercicio2_4.txt', 'r+') as f:\n",
    "    f.write(factorial_10)\n"
   ]
  },
  {
   "cell_type": "code",
   "execution_count": 55,
   "metadata": {},
   "outputs": [],
   "source": [
    "with open('ejercicio3.txt', 'w') as f:\n",
    "    f.writelines(['Hola\\n', 'Mundo\\n', 'Python\\n'])\n"
   ]
  },
  {
   "source": [
    "## Aplanar Listas"
   ],
   "cell_type": "markdown",
   "metadata": {}
  },
  {
   "cell_type": "code",
   "execution_count": 9,
   "metadata": {},
   "outputs": [],
   "source": [
    "registros_table = [{'NUM': '1',\n",
    "  'DB': 'DWM',\n",
    "  'SCHEMA': 'DATA',\n",
    "  'OWNER': 'ADMIN',\n",
    "  'CREATEDATE': '2019-09-05 17:31:17',\n",
    "  'NAME_TABLE': 'ACT_CHATBOT_ESTADO',\n",
    "  'NAME_FIELDS': 'ESTADO_COD',\n",
    "  'FORMAT_TYPE': 'NATIONAL CHARACTER VARYING(15)',\n",
    "  'COLDEFAULT': None,\n",
    "  'IS_NULL': 't',\n",
    "  'DEPENDENCE': '1',\n",
    "  'CONSTRAINTNAME': 'ACT_CHATBOT_ESTADO_PK',\n",
    "  'CONTYPE': 'p',\n",
    "  'CONSEQ': '1'},\n",
    " {'NUM': '2',\n",
    "  'DB': 'DWM',\n",
    "  'SCHEMA': 'DATA',\n",
    "  'OWNER': 'ADMIN',\n",
    "  'CREATEDATE': '2019-09-05 17:31:17',\n",
    "  'NAME_TABLE': 'ACT_CHATBOT_PRUEBA2',\n",
    "  'NAME_FIELDS': 'NUM_LOTE',\n",
    "  'FORMAT_TYPE': 'INTEGER',\n",
    "  'COLDEFAULT': None,\n",
    "  'IS_NULL': 't',\n",
    "  'DEPENDENCE': None,\n",
    "  'CONSTRAINTNAME': None,\n",
    "  'CONTYPE': None,\n",
    "  'CONSEQ': None}]"
   ]
  },
  {
   "cell_type": "code",
   "execution_count": 10,
   "metadata": {},
   "outputs": [
    {
     "output_type": "execute_result",
     "data": {
      "text/plain": [
       "['ACT_CHATBOT_ESTADO', 'ACT_CHATBOT_PRUEBA2']"
      ]
     },
     "metadata": {},
     "execution_count": 10
    }
   ],
   "source": [
    "tablas = []\n",
    "for regt in registros_table:\n",
    "    shema_table =  regt['NAME_TABLE']\n",
    "    if shema_table not in tablas:\n",
    "        tablas.append(shema_table)\n",
    "\n",
    "tablas"
   ]
  },
  {
   "source": [
    "## Excepciones"
   ],
   "cell_type": "markdown",
   "metadata": {}
  },
  {
   "cell_type": "code",
   "execution_count": null,
   "metadata": {},
   "outputs": [],
   "source": [
    "import sys\n",
    "try:\n",
    "    f = open('miarchivo.txt')\n",
    "    s = f.readline()\n",
    "    i = int(s.strip())\n",
    "except OSError as err:\n",
    "    print(\"Error OS: {0}\".format(err))\n",
    "except ValueError:\n",
    "    print(\"No pude convertir el dato a un entero.\")\n",
    "except:\n",
    "    print(\"Error inesperado:\", sys.exc_info()[0])\n",
    "    raise"
   ]
  },
  {
   "cell_type": "code",
   "execution_count": null,
   "metadata": {},
   "outputs": [],
   "source": [
    "# -  cláusula finally siempre es ejecutada antes de salir de la declaración try\n",
    "try:\n",
    "    raise KeyboardInterrupt\n",
    "finally:\n",
    "    print('Chau, mundo!')"
   ]
  },
  {
   "cell_type": "code",
   "execution_count": null,
   "metadata": {},
   "outputs": [],
   "source": [
    "# -- Capturar Excepcion\n",
    "import math\n",
    "\n",
    "def raiz_cuadrada(number):\n",
    "        if number < 0:\n",
    "            raise ValueError(\"Numero negativo\")\n",
    "        return math.sqrt(number)\n",
    "\n",
    "raiz_cuadrada(-1)"
   ]
  },
  {
   "cell_type": "code",
   "execution_count": null,
   "metadata": {},
   "outputs": [],
   "source": [
    "## Libreria Json"
   ]
  },
  {
   "cell_type": "code",
   "execution_count": 12,
   "metadata": {},
   "outputs": [
    {
     "output_type": "stream",
     "name": "stderr",
     "text": [
      "ic| f: '[1, 2, 3]'\n",
      "ic| f: '[1, 2, 3]'\n"
     ]
    },
    {
     "output_type": "execute_result",
     "data": {
      "text/plain": [
       "'[1, 2, 3]'"
      ]
     },
     "metadata": {},
     "execution_count": 12
    }
   ],
   "source": [
    "import json\n",
    "from icecream import ic\n",
    "\n",
    "# serializar un objeto\n",
    "f = json.dumps([1,2,3])\n",
    "ic(f)\n",
    "\n",
    "# deserealizar el objeto\n",
    "json.loads(f)\n",
    "ic(f)\n"
   ]
  },
  {
   "source": [
    "## La librería datetime\n",
    "- Diferencia de tiempo (timedelta)\n",
    "- Fechas (date)\n",
    "- Fechas y horas (datetime)\n",
    "- Horas (time)\n",
    "- Conversión de fechas"
   ],
   "cell_type": "markdown",
   "metadata": {}
  },
  {
   "cell_type": "code",
   "execution_count": 16,
   "metadata": {},
   "outputs": [
    {
     "output_type": "stream",
     "name": "stderr",
     "text": [
      "ic| date_and_time.strftime('%Y-%m-%d'): '2021-05-25'\n",
      "ic| date_and_time.strftime('%Y-%m-%d %H:%M:%S'): '2021-05-25 15:08:30'\n",
      "ic| date_and_time.strftime('%Y/%m/%d'): '2021/05/25'\n",
      "ic| date_and_time.strftime('%Y-%m-%d T%H:%M:%S'): '2021-05-25 T15:08:30'\n",
      "ic| datetime.datetime.strptime('2019-01-10 11:30:25', '%Y-%m-%d %H:%M:%S'): datetime.datetime(2019, 1, 10, 11, 30, 25)\n",
      "ic| datetime.datetime.strptime('2019-01-10 T11:30:25.95', '%Y-%m-%d T%H:%M:%S.%f'): datetime.datetime(2019, 1, 10, 11, 30, 25, 950000)\n"
     ]
    },
    {
     "output_type": "execute_result",
     "data": {
      "text/plain": [
       "datetime.datetime(2019, 1, 10, 11, 30, 25, 950000)"
      ]
     },
     "metadata": {},
     "execution_count": 16
    }
   ],
   "source": [
    "# -- La función strftime crea un string a partir de un objeto datetime\n",
    "import datetime\n",
    "from icecream import ic \n",
    "\n",
    "date_and_time = datetime.datetime(2021, 5, 25, 15, 8, 30)\n",
    "\n",
    "ic (date_and_time.strftime('%Y-%m-%d'))\n",
    "ic(date_and_time.strftime('%Y-%m-%d %H:%M:%S'))\n",
    "ic(date_and_time.strftime('%Y/%m/%d'))\n",
    "ic(date_and_time.strftime('%Y-%m-%d T%H:%M:%S'))\n",
    "ic( datetime.datetime.strptime('2019-01-10 11:30:25', '%Y-%m-%d %H:%M:%S'))\n",
    "ic(datetime.datetime.strptime('2019-01-10 T11:30:25.95', '%Y-%m-%d T%H:%M:%S.%f'))\n",
    "\n"
   ]
  },
  {
   "source": [
    "## Objeto datetime or Time"
   ],
   "cell_type": "markdown",
   "metadata": {}
  },
  {
   "cell_type": "code",
   "execution_count": 22,
   "metadata": {},
   "outputs": [
    {
     "output_type": "stream",
     "name": "stderr",
     "text": [
      "ic| datetime.datetime.now(): datetime.datetime(2021, 7, 1, 12, 14, 4, 255910)\n",
      "ic| datetime.datetime.utcnow(): datetime.datetime(2021, 7, 1, 15, 14, 4, 357606)\n",
      "ic| time.hour: 10\n"
     ]
    },
    {
     "output_type": "execute_result",
     "data": {
      "text/plain": [
       "10"
      ]
     },
     "metadata": {},
     "execution_count": 22
    }
   ],
   "source": [
    "date_and_time.date()\n",
    "\n",
    "ic(datetime.datetime.now())\n",
    "ic(datetime.datetime.utcnow())\n",
    "time = datetime.time(10,20,35)\n",
    "ic(time.hour)\n"
   ]
  },
  {
   "source": [
    "## Listas y Conjuntos"
   ],
   "cell_type": "markdown",
   "metadata": {}
  },
  {
   "cell_type": "code",
   "execution_count": 24,
   "metadata": {},
   "outputs": [
    {
     "output_type": "execute_result",
     "data": {
      "text/plain": [
       "deque(['Michael', 'Terry', 'Graham'])"
      ]
     },
     "metadata": {},
     "execution_count": 24
    }
   ],
   "source": [
    "from collections import deque\n",
    "from icecream import ic \n",
    "\n",
    "queue = deque([\"Eric\", \"John\", \"Michael\"])\n",
    "\n",
    "queue.append(\"Terry\") # llega Terry\n",
    "queue.append(\"Graham\") # llega Graham\n",
    "queue.popleft() # el primero en llegar ahora se va\n",
    "queue.popleft() # el segundo en llegar ahora se va\n",
    "\n",
    "queue"
   ]
  },
  {
   "cell_type": "code",
   "execution_count": 27,
   "metadata": {},
   "outputs": [
    {
     "output_type": "stream",
     "name": "stderr",
     "text": [
      "ic| list(map(lambda x: x**2, range(10))): [0, 1, 4, 9, 16, 25, 36, 49, 64, 81]\n",
      "ic| [x ** 2 for x in range(10)]: [0, 1, 4, 9, 16, 25, 36, 49, 64, 81]\n",
      "ic| [[fila[i] for fila in matriz] for i in range(4)]: [[1, 5, 9], [2, 6, 10], [3, 7, 11], [4, 8, 12]]\n"
     ]
    },
    {
     "output_type": "execute_result",
     "data": {
      "text/plain": [
       "[(1, 5, 9, 13), (2, 6, 10, 14), (3, 7, 11, 15), (4, 8, 12, 16)]"
      ]
     },
     "metadata": {},
     "execution_count": 27
    }
   ],
   "source": [
    "# Comprensión de listas\n",
    "\n",
    "ic(list(map(lambda x: x**2, range(10))))\n",
    "ic([x ** 2 for x in range(10)])\n",
    "\n",
    "# Listas por comprensión anidadas\n",
    "matriz = [[1, 2, 3, 4],[5, 6, 7, 8],[9, 10, 11, 12]]\n",
    "ic([[fila[i] for fila in matriz] for i in range(4)])\n",
    "\n",
    "matriz = [[1, 2, 3, 4],[5, 6, 7, 8],[9, 10, 11, 12],[13,14,15,16]]\n",
    "list(zip(*matriz))\n"
   ]
  },
  {
   "source": [
    "# Libreria RE"
   ],
   "cell_type": "markdown",
   "metadata": {}
  },
  {
   "cell_type": "code",
   "execution_count": 1,
   "metadata": {},
   "outputs": [
    {
     "output_type": "execute_result",
     "data": {
      "text/plain": [
       "['FROM CLIENTES']"
      ]
     },
     "metadata": {},
     "execution_count": 1
    }
   ],
   "source": [
    "import re\n",
    "\n",
    "PATRON = re.compile(r'FROM\\s\\w+') \n",
    "\n",
    "query = \"SELECT CAMPO1, CAMPO2 FROM CLIENTES WHERE C = A\"\n",
    "tables  = PATRON.findall(query,re.I)\n",
    "tables"
   ]
  }
 ],
 "metadata": {
  "kernelspec": {
   "name": "python3",
   "display_name": "Python 3.9.1 64-bit"
  },
  "language_info": {
   "codemirror_mode": {
    "name": "ipython",
    "version": 3
   },
   "file_extension": ".py",
   "mimetype": "text/x-python",
   "name": "python",
   "nbconvert_exporter": "python",
   "pygments_lexer": "ipython3",
   "version": "3.9.1"
  },
  "interpreter": {
   "hash": "ee5cc6fef2d70a7e71ee3826687cbd150f18158e0b1eef11d4f4f92bb920e304"
  }
 },
 "nbformat": 4,
 "nbformat_minor": 4
}